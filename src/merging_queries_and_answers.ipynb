{
 "cells": [
  {
   "cell_type": "code",
   "execution_count": 1,
   "id": "ef959ca6",
   "metadata": {},
   "outputs": [
    {
     "data": {
      "text/html": [
       "<div>\n",
       "<style scoped>\n",
       "    .dataframe tbody tr th:only-of-type {\n",
       "        vertical-align: middle;\n",
       "    }\n",
       "\n",
       "    .dataframe tbody tr th {\n",
       "        vertical-align: top;\n",
       "    }\n",
       "\n",
       "    .dataframe thead th {\n",
       "        text-align: right;\n",
       "    }\n",
       "</style>\n",
       "<table border=\"1\" class=\"dataframe\">\n",
       "  <thead>\n",
       "    <tr style=\"text-align: right;\">\n",
       "      <th></th>\n",
       "      <th>query_id</th>\n",
       "      <th>query_text</th>\n",
       "      <th>relevant_doc_ids</th>\n",
       "    </tr>\n",
       "  </thead>\n",
       "  <tbody>\n",
       "    <tr>\n",
       "      <th>0</th>\n",
       "      <td>llama3_gen_q001</td>\n",
       "      <td>What constitutes a full panel of jurors in the...</td>\n",
       "      <td>[casehold_140_choice_0, casehold_141_choice_0,...</td>\n",
       "    </tr>\n",
       "    <tr>\n",
       "      <th>1</th>\n",
       "      <td>llama3_gen_q002</td>\n",
       "      <td>Under what circumstances can a police officer ...</td>\n",
       "      <td>[casehold_2540_choice_0, casehold_2541_choice_0]</td>\n",
       "    </tr>\n",
       "    <tr>\n",
       "      <th>2</th>\n",
       "      <td>llama3_gen_q003</td>\n",
       "      <td>What constitutes an unconstitutional mandatory...</td>\n",
       "      <td>[casehold_1978_choice_0, casehold_1979_choice_...</td>\n",
       "    </tr>\n",
       "    <tr>\n",
       "      <th>3</th>\n",
       "      <td>llama3_gen_q004</td>\n",
       "      <td>Under what circumstances can a party be entitl...</td>\n",
       "      <td>[casehold_2175_choice_0, casehold_2176_choice_...</td>\n",
       "    </tr>\n",
       "    <tr>\n",
       "      <th>4</th>\n",
       "      <td>llama3_gen_q005</td>\n",
       "      <td>Does the Confrontation Clause apply to capital...</td>\n",
       "      <td>[casehold_2112_choice_0, casehold_2113_choice_...</td>\n",
       "    </tr>\n",
       "  </tbody>\n",
       "</table>\n",
       "</div>"
      ],
      "text/plain": [
       "          query_id                                         query_text  \\\n",
       "0  llama3_gen_q001  What constitutes a full panel of jurors in the...   \n",
       "1  llama3_gen_q002  Under what circumstances can a police officer ...   \n",
       "2  llama3_gen_q003  What constitutes an unconstitutional mandatory...   \n",
       "3  llama3_gen_q004  Under what circumstances can a party be entitl...   \n",
       "4  llama3_gen_q005  Does the Confrontation Clause apply to capital...   \n",
       "\n",
       "                                    relevant_doc_ids  \n",
       "0  [casehold_140_choice_0, casehold_141_choice_0,...  \n",
       "1   [casehold_2540_choice_0, casehold_2541_choice_0]  \n",
       "2  [casehold_1978_choice_0, casehold_1979_choice_...  \n",
       "3  [casehold_2175_choice_0, casehold_2176_choice_...  \n",
       "4  [casehold_2112_choice_0, casehold_2113_choice_...  "
      ]
     },
     "execution_count": 1,
     "metadata": {},
     "output_type": "execute_result"
    }
   ],
   "source": [
    "import pandas as pd\n",
    "\n",
    "\n",
    "\n",
    "df = pd.read_json('/home/bandham/Documents/StonyBrook_CourseWork/Spring 2025/LLM-AMS692.02/Legal-Mind/data/llm_generated_evaluation_queries_llama3_inscript.jsonl', lines=True)\n",
    "df.head()"
   ]
  },
  {
   "cell_type": "code",
   "execution_count": 2,
   "id": "4636a231",
   "metadata": {},
   "outputs": [
    {
     "data": {
      "text/html": [
       "<div>\n",
       "<style scoped>\n",
       "    .dataframe tbody tr th:only-of-type {\n",
       "        vertical-align: middle;\n",
       "    }\n",
       "\n",
       "    .dataframe tbody tr th {\n",
       "        vertical-align: top;\n",
       "    }\n",
       "\n",
       "    .dataframe thead th {\n",
       "        text-align: right;\n",
       "    }\n",
       "</style>\n",
       "<table border=\"1\" class=\"dataframe\">\n",
       "  <thead>\n",
       "    <tr style=\"text-align: right;\">\n",
       "      <th></th>\n",
       "      <th>query_number</th>\n",
       "      <th>query</th>\n",
       "      <th>answer</th>\n",
       "    </tr>\n",
       "  </thead>\n",
       "  <tbody>\n",
       "    <tr>\n",
       "      <th>0</th>\n",
       "      <td>1</td>\n",
       "      <td>What constitutes a full panel of jurors in the...</td>\n",
       "      <td>Under URCCC 4.05(2), a full panel of jurors re...</td>\n",
       "    </tr>\n",
       "    <tr>\n",
       "      <th>1</th>\n",
       "      <td>2</td>\n",
       "      <td>Under what circumstances can a police officer ...</td>\n",
       "      <td>A police officer can conduct a limited pat-dow...</td>\n",
       "    </tr>\n",
       "    <tr>\n",
       "      <th>2</th>\n",
       "      <td>3</td>\n",
       "      <td>What constitutes an unconstitutional mandatory...</td>\n",
       "      <td>The mandatory application of the Federal Sente...</td>\n",
       "    </tr>\n",
       "    <tr>\n",
       "      <th>3</th>\n",
       "      <td>4</td>\n",
       "      <td>Under what circumstances can a party be entitl...</td>\n",
       "      <td>A party may be entitled to equitable indemnifi...</td>\n",
       "    </tr>\n",
       "    <tr>\n",
       "      <th>4</th>\n",
       "      <td>5</td>\n",
       "      <td>Does the Confrontation Clause apply to capital...</td>\n",
       "      <td>Courts are split on the application of the Con...</td>\n",
       "    </tr>\n",
       "  </tbody>\n",
       "</table>\n",
       "</div>"
      ],
      "text/plain": [
       "   query_number                                              query  \\\n",
       "0             1  What constitutes a full panel of jurors in the...   \n",
       "1             2  Under what circumstances can a police officer ...   \n",
       "2             3  What constitutes an unconstitutional mandatory...   \n",
       "3             4  Under what circumstances can a party be entitl...   \n",
       "4             5  Does the Confrontation Clause apply to capital...   \n",
       "\n",
       "                                              answer  \n",
       "0  Under URCCC 4.05(2), a full panel of jurors re...  \n",
       "1  A police officer can conduct a limited pat-dow...  \n",
       "2  The mandatory application of the Federal Sente...  \n",
       "3  A party may be entitled to equitable indemnifi...  \n",
       "4  Courts are split on the application of the Con...  "
      ]
     },
     "execution_count": 2,
     "metadata": {},
     "output_type": "execute_result"
    }
   ],
   "source": [
    "df_ans = pd.read_json('/home/bandham/Documents/StonyBrook_CourseWork/Spring 2025/LLM-AMS692.02/Legal-Mind/data/llm_queries_generated_answers.jsonl')\n",
    "df_ans.head()"
   ]
  },
  {
   "cell_type": "code",
   "execution_count": 3,
   "id": "7ca07525",
   "metadata": {},
   "outputs": [],
   "source": [
    "df1 = pd.concat([df, df_ans], axis=1)\n",
    "df1.head()\n",
    "\n",
    "df1[df1['query_text'] != df1['query']]\n",
    "df1 = df1[['query_id', 'query_text', 'relevant_doc_ids', 'answer']]\n",
    "df1.to_json('/home/bandham/Documents/StonyBrook_CourseWork/Spring 2025/LLM-AMS692.02/Legal-Mind/data/data_with_answers_final.jsonl', orient='records', lines=True)"
   ]
  },
  {
   "cell_type": "code",
   "execution_count": null,
   "id": "8a11434e",
   "metadata": {},
   "outputs": [],
   "source": []
  }
 ],
 "metadata": {
  "kernelspec": {
   "display_name": "llm692_venv",
   "language": "python",
   "name": "python3"
  },
  "language_info": {
   "codemirror_mode": {
    "name": "ipython",
    "version": 3
   },
   "file_extension": ".py",
   "mimetype": "text/x-python",
   "name": "python",
   "nbconvert_exporter": "python",
   "pygments_lexer": "ipython3",
   "version": "3.13.2"
  }
 },
 "nbformat": 4,
 "nbformat_minor": 5
}
