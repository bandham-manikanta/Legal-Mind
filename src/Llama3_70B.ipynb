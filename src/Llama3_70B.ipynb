{
 "cells": [
  {
   "cell_type": "code",
   "execution_count": 2,
   "id": "c2dd49ec-ec2e-4403-84aa-7df6fd9739a5",
   "metadata": {},
   "outputs": [],
   "source": [
    "from openai import OpenAI\n",
    "import time\n",
    "\n",
    "class LegalLLaMA3_70B_Answerer:\n",
    "    def __init__(self, api_key, model=\"meta/llama3-70b-instruct\"):\n",
    "        self.client = OpenAI(\n",
    "            api_key=api_key,\n",
    "            base_url=\"https://integrate.api.nvidia.com/v1\"\n",
    "        )\n",
    "        self.model = model\n",
    "\n",
    "    def build_prompt(self, query, context_docs):\n",
    "        context = \"\\n\\n\".join([f\"Context {i+1}:\\n{doc.strip()}\" for i, doc in enumerate(context_docs)])\n",
    "        prompt = (\n",
    "            f\"{context}\\n\\n\"\n",
    "            f\"Question: {query.strip()}\\n\\n\"\n",
    "            f\"Answer with a complete response followed by a short reasoning.\\n\"\n",
    "            f\"Format:\\nAnswer: <your answer>\\nReasoning: <your reasoning>\"\n",
    "        )\n",
    "        return prompt\n",
    "\n",
    "    def generate(self, query, context_docs, debug=False, retries=3, wait_time=10):\n",
    "        prompt = self.build_prompt(query, context_docs)\n",
    "        messages = [{\"role\": \"user\", \"content\": prompt}]\n",
    "        \n",
    "        for attempt in range(retries):\n",
    "            try:\n",
    "                completion = self.client.chat.completions.create(\n",
    "                    model=self.model,\n",
    "                    messages=messages,\n",
    "                    temperature=0.3,\n",
    "                    top_p=1.0,\n",
    "                    max_tokens=1024,\n",
    "                    stream=False\n",
    "                )\n",
    "                response_text = completion.choices[0].message.content.strip()\n",
    "\n",
    "                if debug:\n",
    "                    print(\"🧠 Raw Response:\\n\", response_text)\n",
    "\n",
    "                # Parse output\n",
    "                answer = \"\"\n",
    "                reasoning = \"\"\n",
    "                if \"Answer:\" in response_text:\n",
    "                    answer_part = response_text.split(\"Answer:\", 1)[-1]\n",
    "                    if \"Reasoning:\" in answer_part:\n",
    "                        answer, reasoning = answer_part.split(\"Reasoning:\", 1)\n",
    "                    else:\n",
    "                        answer = answer_part\n",
    "                else:\n",
    "                    answer = response_text\n",
    "\n",
    "                return {\n",
    "                    \"answer\": answer.strip(),\n",
    "                    \"reasoning\": reasoning.strip() if reasoning else \"(No explicit reasoning found)\"\n",
    "                }\n",
    "\n",
    "            except Exception as e:\n",
    "                print(f\"⚠️ Attempt {attempt+1} failed: {e}\")\n",
    "                if attempt < retries - 1:\n",
    "                    print(f\"⏳ Retrying in {wait_time}s...\")\n",
    "                    time.sleep(wait_time)\n",
    "                else:\n",
    "                    raise RuntimeError(\"❌ All retries failed for LLaMA3-70B\")"
   ]
  },
  {
   "cell_type": "code",
   "execution_count": 4,
   "id": "e982370c-6f71-4bcb-b3f7-b424d35be503",
   "metadata": {},
   "outputs": [
    {
     "name": "stdout",
     "output_type": "stream",
     "text": [
      "🧠 Raw Response:\n",
      " Answer: No, consent is not required, but it must be voluntarily given if obtained.\n",
      "\n",
      "Reasoning: According to Context 2 and 3, consent is an exception to the warrant requirement, and if a person voluntarily agrees to a search, it is considered lawful. However, as stated in Context 4, the consent must be given freely and not coerced by the police officer. This implies that the police officer may not need consent to search a person's bag during a routine traffic stop, but if they do obtain consent, it must be voluntary and not coerced.\n",
      "\n",
      "✅ Answer: No, consent is not required, but it must be voluntarily given if obtained.\n",
      "📚 Reasoning: According to Context 2 and 3, consent is an exception to the warrant requirement, and if a person voluntarily agrees to a search, it is considered lawful. However, as stated in Context 4, the consent must be given freely and not coerced by the police officer. This implies that the police officer may not need consent to search a person's bag during a routine traffic stop, but if they do obtain consent, it must be voluntary and not coerced.\n"
     ]
    }
   ],
   "source": [
    "query = \"Is consent required for a police officer to search a person's bag during a routine traffic stop?\"\n",
    "context_docs = [\n",
    "    \"The Fourth Amendment protects against unreasonable searches and seizures.\",\n",
    "    \"Consent is one of the exceptions to the warrant requirement under the Fourth Amendment.\",\n",
    "    \"If a person voluntarily agrees to a search, the search is considered lawful.\",\n",
    "    \"However, consent must be given freely and not coerced by the police officer.\"\n",
    "]\n",
    "\n",
    "llm = LegalLLaMA3_70B_Answerer(api_key=\"token_here\")\n",
    "response = llm.generate(query, context_docs, debug=True)\n",
    "\n",
    "print(\"\\n✅ Answer:\", response[\"answer\"])\n",
    "print(\"📚 Reasoning:\", response[\"reasoning\"])"
   ]
  },
  {
   "cell_type": "code",
   "execution_count": null,
   "id": "f3c4887e-c034-4ce9-aa59-808dc3dbc0cc",
   "metadata": {},
   "outputs": [],
   "source": []
  }
 ],
 "metadata": {
  "kernelspec": {
   "display_name": "Python [conda env:base] *",
   "language": "python",
   "name": "conda-base-py"
  },
  "language_info": {
   "codemirror_mode": {
    "name": "ipython",
    "version": 3
   },
   "file_extension": ".py",
   "mimetype": "text/x-python",
   "name": "python",
   "nbconvert_exporter": "python",
   "pygments_lexer": "ipython3",
   "version": "3.12.7"
  }
 },
 "nbformat": 4,
 "nbformat_minor": 5
}
