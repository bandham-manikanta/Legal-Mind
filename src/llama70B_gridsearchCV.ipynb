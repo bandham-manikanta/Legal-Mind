{
 "cells": [
  {
   "cell_type": "code",
   "execution_count": 3,
   "id": "4c400493-f44a-4cb4-9afc-ead592082e6b",
   "metadata": {},
   "outputs": [
    {
     "name": "stderr",
     "output_type": "stream",
     "text": [
      "Grid Search:   0%|                                       | 0/12 [00:00<?, ?it/s]Some weights of RobertaModel were not initialized from the model checkpoint at roberta-large and are newly initialized: ['pooler.dense.bias', 'pooler.dense.weight']\n",
      "You should probably TRAIN this model on a down-stream task to be able to use it for predictions and inference.\n",
      "Grid Search:   8%|██▌                            | 1/12 [00:05<00:56,  5.12s/it]"
     ]
    },
    {
     "name": "stdout",
     "output_type": "stream",
     "text": [
      "Config Tested: {'temperature': 0.1, 'top_p': 0.5, 'BLEU': 0.3251067144932862, 'BERTScore': 0.9371240139007568, 'Best Answer': 'Answer: Yes, police can search a vehicle without a warrant under the Fourth Amendment if they have probable cause.\\nReasoning: According to Carroll v. United States, warrantless vehicle searches are permitted with probable cause, which is justified by the inherent mobility of vehicles and lower expectation of privacy, as long as the scope of the search is limited to areas where the evidence might reasonably be found.'}\n"
     ]
    },
    {
     "name": "stderr",
     "output_type": "stream",
     "text": [
      "Grid Search:  17%|█████▏                         | 2/12 [00:09<00:48,  4.81s/it]"
     ]
    },
    {
     "name": "stdout",
     "output_type": "stream",
     "text": [
      "Config Tested: {'temperature': 0.1, 'top_p': 0.7, 'BLEU': 0.3755310872178264, 'BERTScore': 0.950772762298584, 'Best Answer': \"Answer: Yes, police can search a vehicle without a warrant under the Fourth Amendment if they have probable cause.\\nReasoning: According to Carroll v. United States, warrantless vehicle searches are permitted with probable cause, and the 'automobile exception' justifies this due to the inherent mobility of vehicles and lower expectation of privacy.\"}\n"
     ]
    },
    {
     "name": "stderr",
     "output_type": "stream",
     "text": [
      "Grid Search:  25%|███████▊                       | 3/12 [00:14<00:42,  4.70s/it]"
     ]
    },
    {
     "name": "stdout",
     "output_type": "stream",
     "text": [
      "Config Tested: {'temperature': 0.1, 'top_p': 0.9, 'BLEU': 0.3251067144932862, 'BERTScore': 0.9371240139007568, 'Best Answer': 'Answer: Yes, police can search a vehicle without a warrant under the Fourth Amendment if they have probable cause.\\nReasoning: According to Carroll v. United States, warrantless vehicle searches are permitted with probable cause, which is justified by the inherent mobility of vehicles and lower expectation of privacy, as long as the scope of the search is limited to areas where the evidence might reasonably be found.'}\n"
     ]
    },
    {
     "name": "stderr",
     "output_type": "stream",
     "text": [
      "Grid Search:  33%|██████████▎                    | 4/12 [00:18<00:36,  4.55s/it]"
     ]
    },
    {
     "name": "stdout",
     "output_type": "stream",
     "text": [
      "Config Tested: {'temperature': 0.3, 'top_p': 0.5, 'BLEU': 0.3755310872178264, 'BERTScore': 0.950772762298584, 'Best Answer': \"Answer: Yes, police can search a vehicle without a warrant under the Fourth Amendment if they have probable cause.\\nReasoning: According to Carroll v. United States, warrantless vehicle searches are permitted with probable cause, and the 'automobile exception' justifies this due to the inherent mobility of vehicles and lower expectation of privacy.\"}\n"
     ]
    },
    {
     "name": "stderr",
     "output_type": "stream",
     "text": [
      "Grid Search:  42%|████████████▉                  | 5/12 [00:22<00:31,  4.46s/it]"
     ]
    },
    {
     "name": "stdout",
     "output_type": "stream",
     "text": [
      "Config Tested: {'temperature': 0.3, 'top_p': 0.7, 'BLEU': 0.3755310872178264, 'BERTScore': 0.950772762298584, 'Best Answer': \"Answer: Yes, police can search a vehicle without a warrant under the Fourth Amendment if they have probable cause.\\nReasoning: According to Carroll v. United States, warrantless vehicle searches are permitted with probable cause, and the 'automobile exception' justifies this due to the inherent mobility of vehicles and lower expectation of privacy.\"}\n"
     ]
    },
    {
     "name": "stderr",
     "output_type": "stream",
     "text": [
      "Grid Search:  50%|███████████████▌               | 6/12 [00:27<00:26,  4.48s/it]"
     ]
    },
    {
     "name": "stdout",
     "output_type": "stream",
     "text": [
      "Config Tested: {'temperature': 0.3, 'top_p': 0.9, 'BLEU': 0.28374632201065675, 'BERTScore': 0.9379559755325317, 'Best Answer': \"Answer: Yes, police can search a vehicle without a warrant under the Fourth Amendment if they have probable cause.\\nReasoning: According to Carroll v. United States, warrantless vehicle searches are permitted with probable cause, and the 'automobile exception' justifies this due to the inherent mobility of vehicles and lower expectation of privacy, as long as the scope of the search is limited to areas where the evidence might reasonably be found.\"}\n"
     ]
    },
    {
     "name": "stderr",
     "output_type": "stream",
     "text": [
      "Grid Search:  58%|██████████████████             | 7/12 [00:32<00:22,  4.59s/it]"
     ]
    },
    {
     "name": "stdout",
     "output_type": "stream",
     "text": [
      "Config Tested: {'temperature': 0.5, 'top_p': 0.5, 'BLEU': 0.28374632201065675, 'BERTScore': 0.9379559755325317, 'Best Answer': \"Answer: Yes, police can search a vehicle without a warrant under the Fourth Amendment if they have probable cause.\\nReasoning: According to Carroll v. United States, warrantless vehicle searches are permitted with probable cause, and the 'automobile exception' justifies this due to the inherent mobility of vehicles and lower expectation of privacy, as long as the scope of the search is limited to areas where the evidence might reasonably be found.\"}\n"
     ]
    },
    {
     "name": "stderr",
     "output_type": "stream",
     "text": [
      "Grid Search:  67%|████████████████████▋          | 8/12 [00:37<00:18,  4.70s/it]"
     ]
    },
    {
     "name": "stdout",
     "output_type": "stream",
     "text": [
      "Config Tested: {'temperature': 0.5, 'top_p': 0.7, 'BLEU': 0.3251067144932862, 'BERTScore': 0.9371240139007568, 'Best Answer': 'Answer: Yes, police can search a vehicle without a warrant under the Fourth Amendment if they have probable cause.\\nReasoning: According to Carroll v. United States, warrantless vehicle searches are permitted with probable cause, which is justified by the inherent mobility of vehicles and lower expectation of privacy, as long as the scope of the search is limited to areas where the evidence might reasonably be found.'}\n"
     ]
    },
    {
     "name": "stderr",
     "output_type": "stream",
     "text": [
      "Grid Search:  75%|███████████████████████▎       | 9/12 [00:42<00:14,  4.89s/it]"
     ]
    },
    {
     "name": "stdout",
     "output_type": "stream",
     "text": [
      "Config Tested: {'temperature': 0.5, 'top_p': 0.9, 'BLEU': 0.22162393278937678, 'BERTScore': 0.9181151986122131, 'Best Answer': \"Answer: Yes, police can search a vehicle without a warrant under the Fourth Amendment if they have probable cause.\\n\\nReasoning: According to Carroll v. United States (Context 1), warrantless vehicle searches are permitted with probable cause, and the 'automobile exception' (Context 2) justifies this due to the inherent mobility of vehicles and lower expectation of privacy, as long as the scope of the search is limited to areas where the evidence might reasonably be found (Context 3) and probable cause remains a prerequisite (Context 4).\"}\n"
     ]
    },
    {
     "name": "stderr",
     "output_type": "stream",
     "text": [
      "Grid Search:  83%|█████████████████████████     | 10/12 [00:47<00:09,  4.88s/it]"
     ]
    },
    {
     "name": "stdout",
     "output_type": "stream",
     "text": [
      "Config Tested: {'temperature': 0.7, 'top_p': 0.5, 'BLEU': 0.28374632201065675, 'BERTScore': 0.9379559755325317, 'Best Answer': \"Answer: Yes, police can search a vehicle without a warrant under the Fourth Amendment if they have probable cause.\\nReasoning: According to Carroll v. United States, warrantless vehicle searches are permitted with probable cause, and the 'automobile exception' justifies this due to the inherent mobility of vehicles and lower expectation of privacy, as long as the scope of the search is limited to areas where the evidence might reasonably be found.\"}\n"
     ]
    },
    {
     "name": "stderr",
     "output_type": "stream",
     "text": [
      "Grid Search:  92%|███████████████████████████▌  | 11/12 [00:52<00:04,  4.91s/it]"
     ]
    },
    {
     "name": "stdout",
     "output_type": "stream",
     "text": [
      "Config Tested: {'temperature': 0.7, 'top_p': 0.7, 'BLEU': 0.28374632201065675, 'BERTScore': 0.9379559755325317, 'Best Answer': \"Answer: Yes, police can search a vehicle without a warrant under the Fourth Amendment if they have probable cause.\\nReasoning: According to Carroll v. United States, warrantless vehicle searches are permitted with probable cause, and the 'automobile exception' justifies this due to the inherent mobility of vehicles and lower expectation of privacy, as long as the scope of the search is limited to areas where the evidence might reasonably be found.\"}\n"
     ]
    },
    {
     "name": "stderr",
     "output_type": "stream",
     "text": [
      "Grid Search: 100%|██████████████████████████████| 12/12 [00:57<00:00,  4.78s/it]"
     ]
    },
    {
     "name": "stdout",
     "output_type": "stream",
     "text": [
      "Config Tested: {'temperature': 0.7, 'top_p': 0.9, 'BLEU': 0.3251067144932862, 'BERTScore': 0.9371240139007568, 'Best Answer': 'Answer: Yes, police can search a vehicle without a warrant under the Fourth Amendment if they have probable cause.\\nReasoning: According to Carroll v. United States, warrantless vehicle searches are permitted with probable cause, which is justified by the inherent mobility of vehicles and lower expectation of privacy, as long as the scope of the search is limited to areas where the evidence might reasonably be found.'}\n"
     ]
    },
    {
     "name": "stderr",
     "output_type": "stream",
     "text": [
      "\n"
     ]
    },
    {
     "name": "stdout",
     "output_type": "stream",
     "text": [
      "\n",
      "Results saved to llama3_hyperparameter_tuning.csv and heatmap to llama3_hyperparameter_heatmap.png\n"
     ]
    }
   ],
   "source": [
    "from openai import OpenAI\n",
    "from typing import List, Dict\n",
    "import itertools\n",
    "import time\n",
    "from tqdm import tqdm\n",
    "import evaluate\n",
    "import pandas as pd\n",
    "import seaborn as sns\n",
    "import matplotlib.pyplot as plt\n",
    "\n",
    "# Initialize BLEU and BERTScore metrics\n",
    "bleu_metric = evaluate.load(\"bleu\")\n",
    "bertscore_metric = evaluate.load(\"bertscore\")\n",
    "\n",
    "class LegalLLaMA3_70B_Answerer:\n",
    "    def __init__(self, api_key, model=\"meta/llama3-70b-instruct\"):\n",
    "        self.client = OpenAI(\n",
    "            api_key=api_key,\n",
    "            base_url=\"https://integrate.api.nvidia.com/v1\"\n",
    "        )\n",
    "        self.model = model\n",
    "\n",
    "    def build_prompt(self, query, context_docs):\n",
    "        context = \"\\n\\n\".join([f\"Context {i+1}:\\n{doc.strip()}\" for i, doc in enumerate(context_docs)])\n",
    "        prompt = (\n",
    "            f\"{context}\\n\\n\"\n",
    "            f\"Question: {query.strip()}\\n\\n\"\n",
    "            f\"Answer with a complete response followed by a short reasoning.\\n\"\n",
    "            f\"Format:\\nAnswer: <your answer>\\nReasoning: <your reasoning>\"\n",
    "        )\n",
    "        return prompt\n",
    "\n",
    "    def generate(self, query, context_docs, temperature=0.3, top_p=1.0, best_of_n=1, debug=False, retries=3, wait_time=10):\n",
    "        prompt = self.build_prompt(query, context_docs)\n",
    "        messages = [{\"role\": \"user\", \"content\": prompt}]\n",
    "        candidates = []\n",
    "\n",
    "        for _ in range(best_of_n):\n",
    "            for attempt in range(retries):\n",
    "                try:\n",
    "                    completion = self.client.chat.completions.create(\n",
    "                        model=self.model,\n",
    "                        messages=messages,\n",
    "                        temperature=temperature,\n",
    "                        top_p=top_p,\n",
    "                        max_tokens=1024,\n",
    "                        stream=False\n",
    "                    )\n",
    "                    response_text = completion.choices[0].message.content.strip()\n",
    "\n",
    "                    if debug:\n",
    "                        print(\"🧠 Raw Response:\\n\", response_text)\n",
    "\n",
    "                    candidates.append(response_text)\n",
    "                    break  # Success\n",
    "                except Exception as e:\n",
    "                    print(f\"⚠️ Attempt {attempt+1} failed: {e}\")\n",
    "                    if attempt < retries - 1:\n",
    "                        print(f\"⏳ Retrying in {wait_time}s...\")\n",
    "                        time.sleep(wait_time)\n",
    "                    else:\n",
    "                        raise RuntimeError(\"❌ All retries failed for LLaMA3-70B\")\n",
    "\n",
    "        return candidates\n",
    "\n",
    "def simple_reranker(candidates: List[str]) -> str:\n",
    "    return max(candidates, key=lambda x: len(x))\n",
    "\n",
    "def evaluate_outputs(predictions: List[str], references: List[str]) -> Dict:\n",
    "    bleu = bleu_metric.compute(predictions=predictions,\n",
    "                               references=[[ref] for ref in references])['bleu']\n",
    "    bert = bertscore_metric.compute(predictions=predictions, references=references, lang='en')['f1']\n",
    "    bert_avg = sum(bert) / len(bert)\n",
    "    return {\"BLEU\": bleu, \"BERTScore\": bert_avg}\n",
    "\n",
    "def hyperparameter_grid_search(answerer: LegalLLaMA3_70B_Answerer,\n",
    "                                query: str,\n",
    "                                context_docs: List[str],\n",
    "                                reference: str,\n",
    "                                temperatures: List[float],\n",
    "                                top_ps: List[float],\n",
    "                                best_of_n: int = 3):\n",
    "    all_results = []\n",
    "    grid = list(itertools.product(temperatures, top_ps))\n",
    "\n",
    "    for temp, top_p in tqdm(grid, desc=\"Grid Search\"):\n",
    "        candidates = answerer.generate(\n",
    "            query, context_docs,\n",
    "            temperature=temp,\n",
    "            top_p=top_p,\n",
    "            best_of_n=best_of_n\n",
    "        )\n",
    "        best_answer = simple_reranker(candidates)\n",
    "        predictions = [best_answer]\n",
    "        references = [reference]\n",
    "        scores = evaluate_outputs(predictions, references)\n",
    "        result = {\n",
    "            \"temperature\": temp,\n",
    "            \"top_p\": top_p,\n",
    "            \"BLEU\": scores[\"BLEU\"],\n",
    "            \"BERTScore\": scores[\"BERTScore\"],\n",
    "            \"Best Answer\": best_answer\n",
    "        }\n",
    "        print(f\"Config Tested: {result}\")\n",
    "        all_results.append(result)\n",
    "\n",
    "    return all_results\n",
    "\n",
    "def log_results_and_plot(results: List[Dict], csv_path: str, heatmap_path: str):\n",
    "    df = pd.DataFrame(results)\n",
    "    df.to_csv(csv_path, index=False)\n",
    "    plt.figure(figsize=(12, 5))\n",
    "\n",
    "    plt.subplot(1, 2, 1)\n",
    "    pivot_bleu = df.pivot(index=\"temperature\", columns=\"top_p\", values=\"BLEU\")\n",
    "    sns.heatmap(pivot_bleu, annot=True, fmt=\".5f\", cmap=\"YlGnBu\")\n",
    "    plt.title(\"BLEU Score Heatmap\")\n",
    "\n",
    "    plt.subplot(1, 2, 2)\n",
    "    pivot_bert = df.pivot(index=\"temperature\", columns=\"top_p\", values=\"BERTScore\")\n",
    "    sns.heatmap(pivot_bert, annot=True, fmt=\".5f\", cmap=\"YlOrRd\")\n",
    "    plt.title(\"BERTScore Heatmap\")\n",
    "\n",
    "    plt.tight_layout()\n",
    "    plt.savefig(heatmap_path, dpi=300)\n",
    "    plt.close()\n",
    "    print(f\"\\nResults saved to {csv_path} and heatmap to {heatmap_path}\")\n",
    "\n",
    "# =========================\n",
    "# Example Usage\n",
    "# =========================\n",
    "if __name__ == \"__main__\":\n",
    "    API_KEY = \"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\"\n",
    "\n",
    "    answerer = LegalLLaMA3_70B_Answerer(api_key=API_KEY)\n",
    "\n",
    "    query = \"Can police search a vehicle without a warrant under the Fourth Amendment?\"\n",
    "    context_docs = [\n",
    "        \"In Carroll v. United States, the Court ruled that warrantless vehicle searches are permitted with probable cause.\",\n",
    "        \"The 'automobile exception' is justified by the inherent mobility of vehicles and lower expectation of privacy.\",\n",
    "        \"The scope of the search must be limited to areas where the evidence might reasonably be found.\",\n",
    "        \"Probable cause remains a prerequisite — mere suspicion is not sufficient.\"\n",
    "    ]\n",
    "    reference = \"Answer: Yes, under the automobile exception, police can search a vehicle without a warrant if they have probable cause. Reasoning: This is justified by the vehicle's mobility and reduced expectation of privacy as established in Carroll v. United States.\"\n",
    "\n",
    "    temperatures = [0.1, 0.3, 0.5, 0.7]\n",
    "    top_ps = [0.5, 0.7, 0.9]\n",
    "\n",
    "    results = hyperparameter_grid_search(\n",
    "        answerer=answerer,\n",
    "        query=query,\n",
    "        context_docs=context_docs,\n",
    "        reference=reference,\n",
    "        temperatures=temperatures,\n",
    "        top_ps=top_ps,\n",
    "        best_of_n=3\n",
    "    )\n",
    "\n",
    "    log_results_and_plot(\n",
    "        results,\n",
    "        csv_path=\"llama3_hyperparameter_tuning.csv\",\n",
    "        heatmap_path=\"llama3_hyperparameter_heatmap.png\"\n",
    "    )\n"
   ]
  },
  {
   "cell_type": "code",
   "execution_count": null,
   "id": "fc36f7c3-b288-4a7c-b5da-bcf8b0123689",
   "metadata": {},
   "outputs": [],
   "source": []
  }
 ],
 "metadata": {
  "kernelspec": {
   "display_name": "Python [conda env:base] *",
   "language": "python",
   "name": "conda-base-py"
  },
  "language_info": {
   "codemirror_mode": {
    "name": "ipython",
    "version": 3
   },
   "file_extension": ".py",
   "mimetype": "text/x-python",
   "name": "python",
   "nbconvert_exporter": "python",
   "pygments_lexer": "ipython3",
   "version": "3.12.7"
  }
 },
 "nbformat": 4,
 "nbformat_minor": 5
}
