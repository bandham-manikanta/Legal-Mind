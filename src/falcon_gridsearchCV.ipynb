{
 "cells": [
  {
   "cell_type": "code",
   "execution_count": 1,
   "id": "fc49f786-36d0-4bf9-bcd3-b18940adfd5a",
   "metadata": {},
   "outputs": [
    {
     "name": "stderr",
     "output_type": "stream",
     "text": [
      "Grid Search:   0%|                                       | 0/12 [00:00<?, ?it/s]Some weights of RobertaModel were not initialized from the model checkpoint at roberta-large and are newly initialized: ['pooler.dense.bias', 'pooler.dense.weight']\n",
      "You should probably TRAIN this model on a down-stream task to be able to use it for predictions and inference.\n",
      "Grid Search:   8%|██▌                            | 1/12 [00:23<04:21, 23.78s/it]"
     ]
    },
    {
     "name": "stdout",
     "output_type": "stream",
     "text": [
      "Config Tested: {'temperature': 0.1, 'top_p': 0.5, 'BLEU': 0.025501797325257813, 'BERTScore': 0.8732405602931976}\n"
     ]
    },
    {
     "name": "stderr",
     "output_type": "stream",
     "text": [
      "Grid Search:  17%|█████▏                         | 2/12 [00:55<04:42, 28.22s/it]"
     ]
    },
    {
     "name": "stdout",
     "output_type": "stream",
     "text": [
      "Config Tested: {'temperature': 0.1, 'top_p': 0.7, 'BLEU': 0.017921636220706704, 'BERTScore': 0.8466645181179047}\n"
     ]
    },
    {
     "name": "stderr",
     "output_type": "stream",
     "text": [
      "Grid Search:  25%|███████▊                       | 3/12 [01:22<04:10, 27.79s/it]"
     ]
    },
    {
     "name": "stdout",
     "output_type": "stream",
     "text": [
      "Config Tested: {'temperature': 0.1, 'top_p': 0.9, 'BLEU': 0.023681827868464067, 'BERTScore': 0.854119211435318}\n"
     ]
    },
    {
     "name": "stderr",
     "output_type": "stream",
     "text": [
      "Grid Search:  33%|██████████▎                    | 4/12 [01:45<03:26, 25.87s/it]"
     ]
    },
    {
     "name": "stdout",
     "output_type": "stream",
     "text": [
      "Config Tested: {'temperature': 0.3, 'top_p': 0.5, 'BLEU': 0.025368694537454998, 'BERTScore': 0.874313235282898}\n"
     ]
    },
    {
     "name": "stderr",
     "output_type": "stream",
     "text": [
      "Grid Search:  42%|████████████▉                  | 5/12 [02:12<03:05, 26.44s/it]"
     ]
    },
    {
     "name": "stdout",
     "output_type": "stream",
     "text": [
      "Config Tested: {'temperature': 0.3, 'top_p': 0.7, 'BLEU': 0.02361927684259837, 'BERTScore': 0.8538897931575775}\n"
     ]
    },
    {
     "name": "stderr",
     "output_type": "stream",
     "text": [
      "Grid Search:  50%|███████████████▌               | 6/12 [02:45<02:52, 28.75s/it]"
     ]
    },
    {
     "name": "stdout",
     "output_type": "stream",
     "text": [
      "Config Tested: {'temperature': 0.3, 'top_p': 0.9, 'BLEU': 0.020285170428755998, 'BERTScore': 0.8534522652626038}\n"
     ]
    },
    {
     "name": "stderr",
     "output_type": "stream",
     "text": [
      "Grid Search:  58%|██████████████████             | 7/12 [03:08<02:13, 26.60s/it]"
     ]
    },
    {
     "name": "stdout",
     "output_type": "stream",
     "text": [
      "Config Tested: {'temperature': 0.5, 'top_p': 0.5, 'BLEU': 0.030262267934684162, 'BERTScore': 0.8722962141036987}\n"
     ]
    },
    {
     "name": "stderr",
     "output_type": "stream",
     "text": [
      "Grid Search:  67%|████████████████████▋          | 8/12 [03:38<01:51, 27.84s/it]"
     ]
    },
    {
     "name": "stdout",
     "output_type": "stream",
     "text": [
      "Config Tested: {'temperature': 0.5, 'top_p': 0.7, 'BLEU': 0.020398910581278414, 'BERTScore': 0.8497428894042969}\n"
     ]
    },
    {
     "name": "stderr",
     "output_type": "stream",
     "text": [
      "Grid Search:  75%|███████████████████████▎       | 9/12 [04:04<01:21, 27.20s/it]"
     ]
    },
    {
     "name": "stdout",
     "output_type": "stream",
     "text": [
      "Config Tested: {'temperature': 0.5, 'top_p': 0.9, 'BLEU': 0.02099527116726129, 'BERTScore': 0.858477771282196}\n"
     ]
    },
    {
     "name": "stderr",
     "output_type": "stream",
     "text": [
      "Grid Search:  83%|█████████████████████████     | 10/12 [04:31<00:54, 27.24s/it]"
     ]
    },
    {
     "name": "stdout",
     "output_type": "stream",
     "text": [
      "Config Tested: {'temperature': 0.7, 'top_p': 0.5, 'BLEU': 0.024882265019984362, 'BERTScore': 0.8568577766418457}\n"
     ]
    },
    {
     "name": "stderr",
     "output_type": "stream",
     "text": [
      "Grid Search:  92%|███████████████████████████▌  | 11/12 [05:06<00:29, 29.66s/it]"
     ]
    },
    {
     "name": "stdout",
     "output_type": "stream",
     "text": [
      "Config Tested: {'temperature': 0.7, 'top_p': 0.7, 'BLEU': 0.017332164533316475, 'BERTScore': 0.8499995470046997}\n"
     ]
    },
    {
     "name": "stderr",
     "output_type": "stream",
     "text": [
      "Grid Search: 100%|██████████████████████████████| 12/12 [05:38<00:00, 28.25s/it]"
     ]
    },
    {
     "name": "stdout",
     "output_type": "stream",
     "text": [
      "Config Tested: {'temperature': 0.7, 'top_p': 0.9, 'BLEU': 0.018610577759493915, 'BERTScore': 0.8491026759147644}\n"
     ]
    },
    {
     "name": "stderr",
     "output_type": "stream",
     "text": [
      "\n"
     ]
    },
    {
     "name": "stdout",
     "output_type": "stream",
     "text": [
      "\n",
      "Results saved to falcon3_hyperparameter_tuning.csv and heatmap to falcon3_hyperparameter_heatmap.png\n"
     ]
    }
   ],
   "source": [
    "from openai import OpenAI\n",
    "from typing import List, Dict\n",
    "import itertools\n",
    "import time\n",
    "from tqdm import tqdm\n",
    "import evaluate\n",
    "import pandas as pd\n",
    "import seaborn as sns\n",
    "import matplotlib.pyplot as plt\n",
    "\n",
    "# Initialize BLEU and BERTScore metrics\n",
    "bleu_metric = evaluate.load(\"bleu\")\n",
    "bertscore_metric = evaluate.load(\"bertscore\")\n",
    "\n",
    "class LegalFalcon3_7B_Answerer:\n",
    "    def __init__(self, api_key, model=\"tiiuae/falcon3-7b-instruct\"):\n",
    "        self.client = OpenAI(\n",
    "            api_key=api_key,\n",
    "            base_url=\"https://integrate.api.nvidia.com/v1\"\n",
    "        )\n",
    "        self.model = model\n",
    "\n",
    "    def generate(self, prompt, temperature=0.3, top_p=1.0, best_of_n=1, debug=False, retries=3, wait_time=10):\n",
    "        messages = [{\"role\": \"user\", \"content\": prompt}]\n",
    "        candidates = []\n",
    "\n",
    "        for _ in range(best_of_n):\n",
    "            for attempt in range(retries):\n",
    "                try:\n",
    "                    completion = self.client.chat.completions.create(\n",
    "                        model=self.model,\n",
    "                        messages=messages,\n",
    "                        temperature=temperature,\n",
    "                        top_p=top_p,\n",
    "                        max_tokens=1024,\n",
    "                        stream=False\n",
    "                    )\n",
    "                    response_text = completion.choices[0].message.content.strip()\n",
    "\n",
    "                    if debug:\n",
    "                        print(\"🧠 Raw Response:\\n\", response_text)\n",
    "\n",
    "                    candidates.append(response_text)\n",
    "                    break\n",
    "                except Exception as e:\n",
    "                    print(f\"⚠️ Attempt {attempt+1} failed: {e}\")\n",
    "                    if attempt < retries - 1:\n",
    "                        print(f\"⏳ Retrying in {wait_time}s...\")\n",
    "                        time.sleep(wait_time)\n",
    "                    else:\n",
    "                        raise RuntimeError(\"❌ All retries failed for Falcon3-7B\")\n",
    "\n",
    "        return candidates\n",
    "\n",
    "def simple_reranker(candidates: List[str]) -> str:\n",
    "    return max(candidates, key=lambda x: len(x))\n",
    "\n",
    "def evaluate_outputs(predictions: List[str], references: List[str]) -> Dict:\n",
    "    bleu = bleu_metric.compute(predictions=predictions,\n",
    "                               references=[[ref] for ref in references])['bleu']\n",
    "    bert = bertscore_metric.compute(predictions=predictions, references=references, lang='en')['f1']\n",
    "    bert_avg = sum(bert) / len(bert)\n",
    "    return {\"BLEU\": bleu, \"BERTScore\": bert_avg}\n",
    "\n",
    "def hyperparameter_grid_search(answerer: LegalFalcon3_7B_Answerer,\n",
    "                                prompts: List[str],\n",
    "                                references: List[str],\n",
    "                                temperatures: List[float],\n",
    "                                top_ps: List[float],\n",
    "                                best_of_n: int = 3):\n",
    "    all_results = []\n",
    "    grid = list(itertools.product(temperatures, top_ps))\n",
    "\n",
    "    for temp, top_p in tqdm(grid, desc=\"Grid Search\"):\n",
    "        batch_predictions = []\n",
    "        for prompt in prompts:\n",
    "            candidates = answerer.generate(\n",
    "                prompt,\n",
    "                temperature=temp,\n",
    "                top_p=top_p,\n",
    "                best_of_n=best_of_n\n",
    "            )\n",
    "            best_answer = simple_reranker(candidates)\n",
    "            batch_predictions.append(best_answer)\n",
    "        scores = evaluate_outputs(batch_predictions, references)\n",
    "        result = {\n",
    "            \"temperature\": temp,\n",
    "            \"top_p\": top_p,\n",
    "            \"BLEU\": scores[\"BLEU\"],\n",
    "            \"BERTScore\": scores[\"BERTScore\"]\n",
    "        }\n",
    "        print(f\"Config Tested: {result}\")\n",
    "        all_results.append(result)\n",
    "\n",
    "    return all_results\n",
    "\n",
    "def log_results_and_plot(results: List[Dict], csv_path: str, heatmap_path: str):\n",
    "    df = pd.DataFrame(results)\n",
    "    df.to_csv(csv_path, index=False)\n",
    "    plt.figure(figsize=(12, 5))\n",
    "\n",
    "    plt.subplot(1, 2, 1)\n",
    "    pivot_bleu = df.pivot(index=\"temperature\", columns=\"top_p\", values=\"BLEU\")\n",
    "    sns.heatmap(pivot_bleu, annot=True, fmt=\".5f\", cmap=\"YlGnBu\")\n",
    "    plt.title(\"BLEU Score Heatmap\")\n",
    "\n",
    "    plt.subplot(1, 2, 2)\n",
    "    pivot_bert = df.pivot(index=\"temperature\", columns=\"top_p\", values=\"BERTScore\")\n",
    "    sns.heatmap(pivot_bert, annot=True, fmt=\".5f\", cmap=\"YlOrRd\")\n",
    "    plt.title(\"BERTScore Heatmap\")\n",
    "\n",
    "    plt.tight_layout()\n",
    "    plt.savefig(heatmap_path, dpi=300)\n",
    "    plt.close()\n",
    "    print(f\"\\nResults saved to {csv_path} and heatmap to {heatmap_path}\")\n",
    "\n",
    "# =========================\n",
    "# Example Usage\n",
    "# =========================\n",
    "if __name__ == \"__main__\":\n",
    "    API_KEY = \"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\"\n",
    "\n",
    "    answerer = LegalFalcon3_7B_Answerer(api_key=API_KEY)\n",
    "\n",
    "    prompts = [\n",
    "        \"Question: What is the principle of stare decisis in US law? Answer and give reasoning.\",\n",
    "        \"Question: Can a minor legally enter into a binding contract? Explain with reasoning.\"\n",
    "    ]\n",
    "    references = [\n",
    "        \"Answer: The principle of stare decisis means that courts follow precedents established by higher courts. Reasoning: This ensures legal consistency and predictability.\",\n",
    "        \"Answer: Generally, a minor cannot enter into a binding contract, except for necessities. Reasoning: Contracts with minors are usually voidable to protect them from exploitation.\"\n",
    "    ]\n",
    "\n",
    "    temperatures = [0.1, 0.3, 0.5, 0.7]\n",
    "    top_ps = [0.5, 0.7, 0.9]\n",
    "\n",
    "    results = hyperparameter_grid_search(\n",
    "        answerer=answerer,\n",
    "        prompts=prompts,\n",
    "        references=references,\n",
    "        temperatures=temperatures,\n",
    "        top_ps=top_ps,\n",
    "        best_of_n=3\n",
    "    )\n",
    "\n",
    "    log_results_and_plot(\n",
    "        results,\n",
    "        csv_path=\"falcon3_hyperparameter_tuning.csv\",\n",
    "        heatmap_path=\"falcon3_hyperparameter_heatmap.png\"\n",
    "    )\n"
   ]
  },
  {
   "cell_type": "code",
   "execution_count": null,
   "id": "9f690130-5876-469e-9a7b-5389b897beab",
   "metadata": {},
   "outputs": [],
   "source": []
  }
 ],
 "metadata": {
  "kernelspec": {
   "display_name": "Python [conda env:base] *",
   "language": "python",
   "name": "conda-base-py"
  },
  "language_info": {
   "codemirror_mode": {
    "name": "ipython",
    "version": 3
   },
   "file_extension": ".py",
   "mimetype": "text/x-python",
   "name": "python",
   "nbconvert_exporter": "python",
   "pygments_lexer": "ipython3",
   "version": "3.12.7"
  }
 },
 "nbformat": 4,
 "nbformat_minor": 5
}
