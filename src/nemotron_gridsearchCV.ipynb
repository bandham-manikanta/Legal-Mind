{
 "cells": [
  {
   "cell_type": "code",
   "execution_count": 5,
   "id": "95dc176c-6112-4f82-88ac-8a41377ec4ab",
   "metadata": {},
   "outputs": [
    {
     "name": "stdout",
     "output_type": "stream",
     "text": [
      "Collecting evaluate\n",
      "  Downloading evaluate-0.4.3-py3-none-any.whl.metadata (9.2 kB)\n",
      "Requirement already satisfied: datasets>=2.0.0 in /opt/anaconda3/lib/python3.12/site-packages (from evaluate) (3.5.0)\n",
      "Requirement already satisfied: numpy>=1.17 in /opt/anaconda3/lib/python3.12/site-packages (from evaluate) (1.26.4)\n",
      "Requirement already satisfied: dill in /opt/anaconda3/lib/python3.12/site-packages (from evaluate) (0.3.8)\n",
      "Requirement already satisfied: pandas in /opt/anaconda3/lib/python3.12/site-packages (from evaluate) (2.2.2)\n",
      "Requirement already satisfied: requests>=2.19.0 in /opt/anaconda3/lib/python3.12/site-packages (from evaluate) (2.32.3)\n",
      "Requirement already satisfied: tqdm>=4.62.1 in /opt/anaconda3/lib/python3.12/site-packages (from evaluate) (4.66.5)\n",
      "Requirement already satisfied: xxhash in /opt/anaconda3/lib/python3.12/site-packages (from evaluate) (3.5.0)\n",
      "Requirement already satisfied: multiprocess in /opt/anaconda3/lib/python3.12/site-packages (from evaluate) (0.70.16)\n",
      "Requirement already satisfied: fsspec>=2021.05.0 in /opt/anaconda3/lib/python3.12/site-packages (from fsspec[http]>=2021.05.0->evaluate) (2024.6.1)\n",
      "Requirement already satisfied: huggingface-hub>=0.7.0 in /opt/anaconda3/lib/python3.12/site-packages (from evaluate) (0.30.2)\n",
      "Requirement already satisfied: packaging in /opt/anaconda3/lib/python3.12/site-packages (from evaluate) (24.1)\n",
      "Requirement already satisfied: filelock in /opt/anaconda3/lib/python3.12/site-packages (from datasets>=2.0.0->evaluate) (3.13.1)\n",
      "Requirement already satisfied: pyarrow>=15.0.0 in /opt/anaconda3/lib/python3.12/site-packages (from datasets>=2.0.0->evaluate) (16.1.0)\n",
      "Requirement already satisfied: aiohttp in /opt/anaconda3/lib/python3.12/site-packages (from datasets>=2.0.0->evaluate) (3.10.5)\n",
      "Requirement already satisfied: pyyaml>=5.1 in /opt/anaconda3/lib/python3.12/site-packages (from datasets>=2.0.0->evaluate) (6.0.1)\n",
      "Requirement already satisfied: typing-extensions>=3.7.4.3 in /opt/anaconda3/lib/python3.12/site-packages (from huggingface-hub>=0.7.0->evaluate) (4.11.0)\n",
      "Requirement already satisfied: charset-normalizer<4,>=2 in /opt/anaconda3/lib/python3.12/site-packages (from requests>=2.19.0->evaluate) (3.3.2)\n",
      "Requirement already satisfied: idna<4,>=2.5 in /opt/anaconda3/lib/python3.12/site-packages (from requests>=2.19.0->evaluate) (3.7)\n",
      "Requirement already satisfied: urllib3<3,>=1.21.1 in /opt/anaconda3/lib/python3.12/site-packages (from requests>=2.19.0->evaluate) (2.2.3)\n",
      "Requirement already satisfied: certifi>=2017.4.17 in /opt/anaconda3/lib/python3.12/site-packages (from requests>=2.19.0->evaluate) (2025.4.26)\n",
      "Requirement already satisfied: python-dateutil>=2.8.2 in /opt/anaconda3/lib/python3.12/site-packages (from pandas->evaluate) (2.9.0.post0)\n",
      "Requirement already satisfied: pytz>=2020.1 in /opt/anaconda3/lib/python3.12/site-packages (from pandas->evaluate) (2024.1)\n",
      "Requirement already satisfied: tzdata>=2022.7 in /opt/anaconda3/lib/python3.12/site-packages (from pandas->evaluate) (2023.3)\n",
      "Requirement already satisfied: aiohappyeyeballs>=2.3.0 in /opt/anaconda3/lib/python3.12/site-packages (from aiohttp->datasets>=2.0.0->evaluate) (2.4.0)\n",
      "Requirement already satisfied: aiosignal>=1.1.2 in /opt/anaconda3/lib/python3.12/site-packages (from aiohttp->datasets>=2.0.0->evaluate) (1.2.0)\n",
      "Requirement already satisfied: attrs>=17.3.0 in /opt/anaconda3/lib/python3.12/site-packages (from aiohttp->datasets>=2.0.0->evaluate) (23.1.0)\n",
      "Requirement already satisfied: frozenlist>=1.1.1 in /opt/anaconda3/lib/python3.12/site-packages (from aiohttp->datasets>=2.0.0->evaluate) (1.4.0)\n",
      "Requirement already satisfied: multidict<7.0,>=4.5 in /opt/anaconda3/lib/python3.12/site-packages (from aiohttp->datasets>=2.0.0->evaluate) (6.0.4)\n",
      "Requirement already satisfied: yarl<2.0,>=1.0 in /opt/anaconda3/lib/python3.12/site-packages (from aiohttp->datasets>=2.0.0->evaluate) (1.11.0)\n",
      "Requirement already satisfied: six>=1.5 in /opt/anaconda3/lib/python3.12/site-packages (from python-dateutil>=2.8.2->pandas->evaluate) (1.16.0)\n",
      "Downloading evaluate-0.4.3-py3-none-any.whl (84 kB)\n",
      "Installing collected packages: evaluate\n",
      "Successfully installed evaluate-0.4.3\n"
     ]
    }
   ],
   "source": [
    "!pip install evaluate"
   ]
  },
  {
   "cell_type": "code",
   "execution_count": 9,
   "id": "f3321d42-ac4d-4792-88fe-b95568e75bdc",
   "metadata": {},
   "outputs": [
    {
     "name": "stdout",
     "output_type": "stream",
     "text": [
      "Collecting bert_score\n",
      "  Downloading bert_score-0.3.13-py3-none-any.whl.metadata (15 kB)\n",
      "Requirement already satisfied: torch>=1.0.0 in /opt/anaconda3/lib/python3.12/site-packages (from bert_score) (2.7.0)\n",
      "Requirement already satisfied: pandas>=1.0.1 in /opt/anaconda3/lib/python3.12/site-packages (from bert_score) (2.2.2)\n",
      "Requirement already satisfied: transformers>=3.0.0 in /opt/anaconda3/lib/python3.12/site-packages (from bert_score) (4.51.3)\n",
      "Requirement already satisfied: numpy in /opt/anaconda3/lib/python3.12/site-packages (from bert_score) (1.26.4)\n",
      "Requirement already satisfied: requests in /opt/anaconda3/lib/python3.12/site-packages (from bert_score) (2.32.3)\n",
      "Requirement already satisfied: tqdm>=4.31.1 in /opt/anaconda3/lib/python3.12/site-packages (from bert_score) (4.66.5)\n",
      "Requirement already satisfied: matplotlib in /opt/anaconda3/lib/python3.12/site-packages (from bert_score) (3.9.2)\n",
      "Requirement already satisfied: packaging>=20.9 in /opt/anaconda3/lib/python3.12/site-packages (from bert_score) (24.1)\n",
      "Requirement already satisfied: python-dateutil>=2.8.2 in /opt/anaconda3/lib/python3.12/site-packages (from pandas>=1.0.1->bert_score) (2.9.0.post0)\n",
      "Requirement already satisfied: pytz>=2020.1 in /opt/anaconda3/lib/python3.12/site-packages (from pandas>=1.0.1->bert_score) (2024.1)\n",
      "Requirement already satisfied: tzdata>=2022.7 in /opt/anaconda3/lib/python3.12/site-packages (from pandas>=1.0.1->bert_score) (2023.3)\n",
      "Requirement already satisfied: filelock in /opt/anaconda3/lib/python3.12/site-packages (from torch>=1.0.0->bert_score) (3.13.1)\n",
      "Requirement already satisfied: typing-extensions>=4.10.0 in /opt/anaconda3/lib/python3.12/site-packages (from torch>=1.0.0->bert_score) (4.11.0)\n",
      "Requirement already satisfied: setuptools in /opt/anaconda3/lib/python3.12/site-packages (from torch>=1.0.0->bert_score) (75.1.0)\n",
      "Requirement already satisfied: sympy>=1.13.3 in /opt/anaconda3/lib/python3.12/site-packages (from torch>=1.0.0->bert_score) (1.14.0)\n",
      "Requirement already satisfied: networkx in /opt/anaconda3/lib/python3.12/site-packages (from torch>=1.0.0->bert_score) (3.3)\n",
      "Requirement already satisfied: jinja2 in /opt/anaconda3/lib/python3.12/site-packages (from torch>=1.0.0->bert_score) (3.1.4)\n",
      "Requirement already satisfied: fsspec in /opt/anaconda3/lib/python3.12/site-packages (from torch>=1.0.0->bert_score) (2024.6.1)\n",
      "Requirement already satisfied: huggingface-hub<1.0,>=0.30.0 in /opt/anaconda3/lib/python3.12/site-packages (from transformers>=3.0.0->bert_score) (0.30.2)\n",
      "Requirement already satisfied: pyyaml>=5.1 in /opt/anaconda3/lib/python3.12/site-packages (from transformers>=3.0.0->bert_score) (6.0.1)\n",
      "Requirement already satisfied: regex!=2019.12.17 in /opt/anaconda3/lib/python3.12/site-packages (from transformers>=3.0.0->bert_score) (2024.9.11)\n",
      "Requirement already satisfied: tokenizers<0.22,>=0.21 in /opt/anaconda3/lib/python3.12/site-packages (from transformers>=3.0.0->bert_score) (0.21.1)\n",
      "Requirement already satisfied: safetensors>=0.4.3 in /opt/anaconda3/lib/python3.12/site-packages (from transformers>=3.0.0->bert_score) (0.5.3)\n",
      "Requirement already satisfied: contourpy>=1.0.1 in /opt/anaconda3/lib/python3.12/site-packages (from matplotlib->bert_score) (1.2.0)\n",
      "Requirement already satisfied: cycler>=0.10 in /opt/anaconda3/lib/python3.12/site-packages (from matplotlib->bert_score) (0.11.0)\n",
      "Requirement already satisfied: fonttools>=4.22.0 in /opt/anaconda3/lib/python3.12/site-packages (from matplotlib->bert_score) (4.51.0)\n",
      "Requirement already satisfied: kiwisolver>=1.3.1 in /opt/anaconda3/lib/python3.12/site-packages (from matplotlib->bert_score) (1.4.4)\n",
      "Requirement already satisfied: pillow>=8 in /opt/anaconda3/lib/python3.12/site-packages (from matplotlib->bert_score) (10.4.0)\n",
      "Requirement already satisfied: pyparsing>=2.3.1 in /opt/anaconda3/lib/python3.12/site-packages (from matplotlib->bert_score) (3.1.2)\n",
      "Requirement already satisfied: charset-normalizer<4,>=2 in /opt/anaconda3/lib/python3.12/site-packages (from requests->bert_score) (3.3.2)\n",
      "Requirement already satisfied: idna<4,>=2.5 in /opt/anaconda3/lib/python3.12/site-packages (from requests->bert_score) (3.7)\n",
      "Requirement already satisfied: urllib3<3,>=1.21.1 in /opt/anaconda3/lib/python3.12/site-packages (from requests->bert_score) (2.2.3)\n",
      "Requirement already satisfied: certifi>=2017.4.17 in /opt/anaconda3/lib/python3.12/site-packages (from requests->bert_score) (2025.4.26)\n",
      "Requirement already satisfied: six>=1.5 in /opt/anaconda3/lib/python3.12/site-packages (from python-dateutil>=2.8.2->pandas>=1.0.1->bert_score) (1.16.0)\n",
      "Requirement already satisfied: mpmath<1.4,>=1.1.0 in /opt/anaconda3/lib/python3.12/site-packages (from sympy>=1.13.3->torch>=1.0.0->bert_score) (1.3.0)\n",
      "Requirement already satisfied: MarkupSafe>=2.0 in /opt/anaconda3/lib/python3.12/site-packages (from jinja2->torch>=1.0.0->bert_score) (2.1.3)\n",
      "Downloading bert_score-0.3.13-py3-none-any.whl (61 kB)\n",
      "Installing collected packages: bert_score\n",
      "Successfully installed bert_score-0.3.13\n"
     ]
    }
   ],
   "source": [
    "!pip install bert_score"
   ]
  },
  {
   "cell_type": "code",
   "execution_count": 16,
   "id": "80a54f60-48a5-4505-86bd-e3a3fea1ac18",
   "metadata": {},
   "outputs": [
    {
     "name": "stdout",
     "output_type": "stream",
     "text": [
      "Collecting hf_xet\n",
      "  Downloading hf_xet-1.1.0-cp37-abi3-macosx_11_0_arm64.whl.metadata (494 bytes)\n",
      "Downloading hf_xet-1.1.0-cp37-abi3-macosx_11_0_arm64.whl (4.9 MB)\n",
      "\u001b[2K   \u001b[90m━━━━━━━━━━━━━━━━━━━━━━━━━━━━━━━━━━━━━━━━\u001b[0m \u001b[32m4.9/4.9 MB\u001b[0m \u001b[31m4.5 MB/s\u001b[0m eta \u001b[36m0:00:00\u001b[0ma \u001b[36m0:00:01\u001b[0mm\n",
      "\u001b[?25hInstalling collected packages: hf_xet\n",
      "Successfully installed hf_xet-1.1.0\n"
     ]
    }
   ],
   "source": [
    "!pip install hf_xet"
   ]
  },
  {
   "cell_type": "code",
   "execution_count": 25,
   "id": "fe7d1a2b-6630-43db-aa32-858f7906963f",
   "metadata": {},
   "outputs": [
    {
     "name": "stderr",
     "output_type": "stream",
     "text": [
      "Grid Search:   0%|                                       | 0/12 [00:00<?, ?it/s]Some weights of RobertaModel were not initialized from the model checkpoint at roberta-large and are newly initialized: ['pooler.dense.bias', 'pooler.dense.weight']\n",
      "You should probably TRAIN this model on a down-stream task to be able to use it for predictions and inference.\n",
      "Grid Search:   8%|██▌                            | 1/12 [00:06<01:09,  6.32s/it]"
     ]
    },
    {
     "name": "stdout",
     "output_type": "stream",
     "text": [
      "Config Tested: {'temperature': 0.1, 'top_p': 0.5, 'BLEU': 0.08405462664062499, 'BERTScore': 0.8871520757675171, 'Best Answer': \"**Answer:** Yes, under certain conditions.\\n**Reasoning:** This answer is based on the integration of Contexts 1, 2, and 4. Specifically, according to Carroll v. United States (Context 1), warrantless vehicle searches are allowed if there is probable cause (Context 4), leveraging the 'automobile exception' (Context 2) which accommodates the unique aspects of vehicles.\"}\n"
     ]
    },
    {
     "name": "stderr",
     "output_type": "stream",
     "text": [
      "Grid Search:  17%|█████▏                         | 2/12 [00:12<01:01,  6.11s/it]"
     ]
    },
    {
     "name": "stdout",
     "output_type": "stream",
     "text": [
      "Config Tested: {'temperature': 0.1, 'top_p': 0.7, 'BLEU': 0.08405462664062499, 'BERTScore': 0.8871520757675171, 'Best Answer': \"**Answer:** Yes, under certain conditions.\\n**Reasoning:** This answer is based on the integration of Contexts 1, 2, and 4. Specifically, according to Carroll v. United States (Context 1), warrantless vehicle searches are allowed if there is probable cause (Context 4), leveraging the 'automobile exception' (Context 2) which accommodates the unique aspects of vehicles.\"}\n"
     ]
    },
    {
     "name": "stderr",
     "output_type": "stream",
     "text": [
      "Grid Search:  25%|███████▊                       | 3/12 [00:18<00:57,  6.34s/it]"
     ]
    },
    {
     "name": "stdout",
     "output_type": "stream",
     "text": [
      "Config Tested: {'temperature': 0.1, 'top_p': 0.9, 'BLEU': 0.0976659047691377, 'BERTScore': 0.8943610787391663, 'Best Answer': '**Answer:** Yes, under certain conditions.\\n**Reasoning:** This answer is based on the integration of information from Contexts 1, 2, and 4. Specifically, according to Carroll v. United States (Context 1), warrantless vehicle searches are allowed with probable cause, not mere suspicion (Context 4). The \"automobile exception\" (Context 2) provides the legal justification for this, highlighting the vehicle\\'s mobility and the lower privacy expectation as key factors.'}\n"
     ]
    },
    {
     "name": "stderr",
     "output_type": "stream",
     "text": [
      "Grid Search:  33%|██████████▎                    | 4/12 [00:24<00:49,  6.14s/it]"
     ]
    },
    {
     "name": "stdout",
     "output_type": "stream",
     "text": [
      "Config Tested: {'temperature': 0.3, 'top_p': 0.5, 'BLEU': 0.08405462664062499, 'BERTScore': 0.8871520757675171, 'Best Answer': \"**Answer:** Yes, under certain conditions.\\n**Reasoning:** This answer is based on the integration of Contexts 1, 2, and 4. Specifically, according to Carroll v. United States (Context 1), warrantless vehicle searches are allowed if there is probable cause (Context 4), leveraging the 'automobile exception' (Context 2) which accommodates the unique aspects of vehicles.\"}\n"
     ]
    },
    {
     "name": "stderr",
     "output_type": "stream",
     "text": [
      "Grid Search:  42%|████████████▉                  | 5/12 [00:30<00:42,  6.07s/it]"
     ]
    },
    {
     "name": "stdout",
     "output_type": "stream",
     "text": [
      "Config Tested: {'temperature': 0.3, 'top_p': 0.7, 'BLEU': 0.08193962108645049, 'BERTScore': 0.8865646123886108, 'Best Answer': \"**Answer:** Yes, under certain conditions.\\n**Reasoning:** This answer is based on the integration of information from Contexts 1, 2, and 4. Specifically, according to Carroll v. United States (Context 1), warrantless vehicle searches are allowed if there is probable cause (Context 4), leveraging the 'automobile exception' (Context 2) which accommodates the unique aspects of vehicles.\"}\n"
     ]
    },
    {
     "name": "stderr",
     "output_type": "stream",
     "text": [
      "Grid Search:  50%|███████████████▌               | 6/12 [00:37<00:37,  6.30s/it]"
     ]
    },
    {
     "name": "stdout",
     "output_type": "stream",
     "text": [
      "Config Tested: {'temperature': 0.3, 'top_p': 0.9, 'BLEU': 0.0976659047691377, 'BERTScore': 0.8943610787391663, 'Best Answer': '**Answer:** Yes, under certain conditions.\\n**Reasoning:** This answer is based on the integration of information from Contexts 1, 2, and 4. Specifically, according to Carroll v. United States (Context 1), warrantless vehicle searches are allowed with probable cause, not mere suspicion (Context 4). The \"automobile exception\" (Context 2) provides the legal justification for this, highlighting the vehicle\\'s mobility and the lower privacy expectation as key factors.'}\n"
     ]
    },
    {
     "name": "stderr",
     "output_type": "stream",
     "text": [
      "Grid Search:  58%|██████████████████             | 7/12 [00:43<00:30,  6.12s/it]"
     ]
    },
    {
     "name": "stdout",
     "output_type": "stream",
     "text": [
      "Config Tested: {'temperature': 0.5, 'top_p': 0.5, 'BLEU': 0.08405462664062499, 'BERTScore': 0.8871520757675171, 'Best Answer': \"**Answer:** Yes, under certain conditions.\\n**Reasoning:** This answer is based on the integration of Contexts 1, 2, and 4. Specifically, according to Carroll v. United States (Context 1), warrantless vehicle searches are allowed if there is probable cause (Context 4), leveraging the 'automobile exception' (Context 2) which accommodates the unique aspects of vehicles.\"}\n"
     ]
    },
    {
     "name": "stderr",
     "output_type": "stream",
     "text": [
      "Grid Search:  67%|████████████████████▋          | 8/12 [00:49<00:24,  6.08s/it]"
     ]
    },
    {
     "name": "stdout",
     "output_type": "stream",
     "text": [
      "Config Tested: {'temperature': 0.5, 'top_p': 0.7, 'BLEU': 0.08193962108645049, 'BERTScore': 0.8865646123886108, 'Best Answer': \"**Answer:** Yes, under certain conditions.\\n**Reasoning:** This answer is based on the integration of information from Contexts 1, 2, and 4. Specifically, according to Carroll v. United States (Context 1), warrantless vehicle searches are allowed if there is probable cause (Context 4), leveraging the 'automobile exception' (Context 2) which accommodates the unique aspects of vehicles.\"}\n"
     ]
    },
    {
     "name": "stderr",
     "output_type": "stream",
     "text": [
      "Grid Search:  75%|███████████████████████▎       | 9/12 [00:55<00:18,  6.21s/it]"
     ]
    },
    {
     "name": "stdout",
     "output_type": "stream",
     "text": [
      "Config Tested: {'temperature': 0.5, 'top_p': 0.9, 'BLEU': 0.08106771392535507, 'BERTScore': 0.8929747343063354, 'Best Answer': \"**Answer:** Yes, under certain conditions.\\n**Reasoning:** This answer is based on the combination of information from Contexts 1, 2, and 4. According to Carroll v. United States (Context 1), warrantless vehicle searches are allowed with probable cause, not mere suspicion (Context 4). The justification for this exception to the Fourth Amendment's warrant requirement is the inherent mobility of vehicles and the lower expectation of privacy in them (Context 2).\"}\n"
     ]
    },
    {
     "name": "stderr",
     "output_type": "stream",
     "text": [
      "Grid Search:  83%|█████████████████████████     | 10/12 [01:01<00:12,  6.06s/it]"
     ]
    },
    {
     "name": "stdout",
     "output_type": "stream",
     "text": [
      "Config Tested: {'temperature': 0.7, 'top_p': 0.5, 'BLEU': 0.08405462664062499, 'BERTScore': 0.8871520757675171, 'Best Answer': \"**Answer:** Yes, under certain conditions.\\n**Reasoning:** This answer is based on the integration of Contexts 1, 2, and 4. Specifically, according to Carroll v. United States (Context 1), warrantless vehicle searches are allowed if there is probable cause (Context 4), leveraging the 'automobile exception' (Context 2) which accommodates the unique aspects of vehicles.\"}\n"
     ]
    },
    {
     "name": "stderr",
     "output_type": "stream",
     "text": [
      "Grid Search:  92%|███████████████████████████▌  | 11/12 [01:07<00:06,  6.04s/it]"
     ]
    },
    {
     "name": "stdout",
     "output_type": "stream",
     "text": [
      "Config Tested: {'temperature': 0.7, 'top_p': 0.7, 'BLEU': 0.08193962108645049, 'BERTScore': 0.8865646123886108, 'Best Answer': \"**Answer:** Yes, under certain conditions.\\n**Reasoning:** This answer is based on the integration of information from Contexts 1, 2, and 4. Specifically, according to Carroll v. United States (Context 1), warrantless vehicle searches are allowed if there is probable cause (Context 4), leveraging the 'automobile exception' (Context 2) which accommodates the unique aspects of vehicles.\"}\n"
     ]
    },
    {
     "name": "stderr",
     "output_type": "stream",
     "text": [
      "Grid Search: 100%|██████████████████████████████| 12/12 [01:15<00:00,  6.29s/it]"
     ]
    },
    {
     "name": "stdout",
     "output_type": "stream",
     "text": [
      "Config Tested: {'temperature': 0.7, 'top_p': 0.9, 'BLEU': 0.06868504084022532, 'BERTScore': 0.8927922248840332, 'Best Answer': '**Answer:** Yes, under certain conditions.\\n**Reasoning:** This answer is based on the convergence of information from Contexts 1, 2, and 4. Specifically, Carroll v. United States (Context 1) established the legality of warrantless vehicle searches with probable cause. The \"automobile exception\" (Context 2) further justifies this practice due to the mobility of vehicles and the reduced privacy expectation. However, as emphasized in Context 4, probable cause is a necessity, indicating that not all situations permit a warrantless search, only those where there is more than mere suspicion.'}\n"
     ]
    },
    {
     "name": "stderr",
     "output_type": "stream",
     "text": [
      "\n"
     ]
    },
    {
     "name": "stdout",
     "output_type": "stream",
     "text": [
      "\n",
      "Results saved to nemotron_hyperparameter.csv and heatmap to nemotron_hyperparameter_heatmap.png\n"
     ]
    }
   ],
   "source": [
    "from openai import OpenAI\n",
    "from typing import List, Dict\n",
    "import itertools\n",
    "import time\n",
    "from tqdm import tqdm\n",
    "import evaluate\n",
    "import pandas as pd\n",
    "import seaborn as sns\n",
    "import matplotlib.pyplot as plt\n",
    "\n",
    "# Initialize BLEU and BERTScore metrics\n",
    "bleu_metric = evaluate.load(\"bleu\")\n",
    "bertscore_metric = evaluate.load(\"bertscore\")\n",
    "\n",
    "class LegalNVIDIAAnswerer:\n",
    "    def __init__(self, api_key, model=\"nvidia/llama-3.1-nemotron-70b-instruct\"):\n",
    "        self.client = OpenAI(\n",
    "            api_key=api_key,\n",
    "            base_url=\"https://integrate.api.nvidia.com/v1\"\n",
    "        )\n",
    "        self.model = model\n",
    "\n",
    "    def build_prompt(self, query, context_docs):\n",
    "        context = \"\\n\\n\".join([f\"Context {i+1}:\\n{doc.strip()}\" for i, doc in enumerate(context_docs)])\n",
    "        prompt = (\n",
    "            f\"{context}\\n\\n\"\n",
    "            f\"Question: {query.strip()}\\n\\n\"\n",
    "            f\"Answer with a complete response followed by a short reasoning.\\n\"\n",
    "            f\"Format:\\nAnswer: <your answer>\\nReasoning: <your reasoning>\"\n",
    "        )\n",
    "        return prompt\n",
    "\n",
    "    def generate(self, query, context_docs, temperature=0.3, top_p=1.0, best_of_n=1, debug=False, retries=3, wait_time=10):\n",
    "        prompt = self.build_prompt(query, context_docs)\n",
    "        messages = [{\"role\": \"user\", \"content\": prompt}]\n",
    "        candidates = []\n",
    "\n",
    "        for _ in range(best_of_n):\n",
    "            for attempt in range(retries):\n",
    "                try:\n",
    "                    completion = self.client.chat.completions.create(\n",
    "                        model=self.model,\n",
    "                        messages=messages,\n",
    "                        temperature=temperature,\n",
    "                        top_p=top_p,\n",
    "                        max_tokens=1024,\n",
    "                        stream=False\n",
    "                    )\n",
    "                    response_text = completion.choices[0].message.content.strip()\n",
    "\n",
    "                    if debug:\n",
    "                        print(\"🧠 Raw Response:\\n\", response_text)\n",
    "\n",
    "                    candidates.append(response_text)\n",
    "                    break  # Success\n",
    "                except Exception as e:\n",
    "                    print(f\"⚠️ Attempt {attempt+1} failed: {e}\")\n",
    "                    if attempt < retries - 1:\n",
    "                        print(f\"⏳ Retrying in {wait_time}s...\")\n",
    "                        time.sleep(wait_time)\n",
    "                    else:\n",
    "                        raise RuntimeError(\"❌ All retries failed for NVIDIA LLM\")\n",
    "\n",
    "        return candidates\n",
    "\n",
    "def simple_reranker(candidates: List[str]) -> str:\n",
    "    return max(candidates, key=lambda x: len(x))\n",
    "\n",
    "def evaluate_outputs(predictions: List[str], references: List[str]) -> Dict:\n",
    "    bleu = bleu_metric.compute(predictions=predictions,\n",
    "                               references=[[ref] for ref in references])['bleu']\n",
    "    bert = bertscore_metric.compute(predictions=predictions, references=references, lang='en')['f1']\n",
    "    bert_avg = sum(bert) / len(bert)\n",
    "    return {\"BLEU\": bleu, \"BERTScore\": bert_avg}\n",
    "\n",
    "def hyperparameter_grid_search(answerer: LegalNVIDIAAnswerer,\n",
    "                                query: str,\n",
    "                                context_docs: List[str],\n",
    "                                reference: str,\n",
    "                                temperatures: List[float],\n",
    "                                top_ps: List[float],\n",
    "                                best_of_n: int = 3):\n",
    "    all_results = []\n",
    "    grid = list(itertools.product(temperatures, top_ps))\n",
    "\n",
    "    for temp, top_p in tqdm(grid, desc=\"Grid Search\"):\n",
    "        candidates = answerer.generate(\n",
    "            query, context_docs,\n",
    "            temperature=temp,\n",
    "            top_p=top_p,\n",
    "            best_of_n=best_of_n\n",
    "        )\n",
    "        best_answer = simple_reranker(candidates)\n",
    "        predictions = [best_answer]\n",
    "        references = [reference]\n",
    "        scores = evaluate_outputs(predictions, references)\n",
    "        result = {\n",
    "            \"temperature\": temp,\n",
    "            \"top_p\": top_p,\n",
    "            \"BLEU\": scores[\"BLEU\"],\n",
    "            \"BERTScore\": scores[\"BERTScore\"],\n",
    "            \"Best Answer\": best_answer\n",
    "        }\n",
    "        print(f\"Config Tested: {result}\")\n",
    "        all_results.append(result)\n",
    "\n",
    "    return all_results\n",
    "\n",
    "def log_results_and_plot(results: List[Dict], csv_path: str, heatmap_path: str):\n",
    "    df = pd.DataFrame(results)\n",
    "    df.to_csv(csv_path, index=False)\n",
    "    plt.figure(figsize=(12, 5))\n",
    "\n",
    "    plt.subplot(1, 2, 1)\n",
    "    pivot_bleu = df.pivot(index=\"temperature\", columns=\"top_p\", values=\"BLEU\")\n",
    "    sns.heatmap(pivot_bleu, annot=True, fmt=\".5f\", cmap=\"YlGnBu\")\n",
    "    plt.title(\"BLEU Score Heatmap\")\n",
    "\n",
    "    plt.subplot(1, 2, 2)\n",
    "    pivot_bert = df.pivot(index=\"temperature\", columns=\"top_p\", values=\"BERTScore\")\n",
    "    sns.heatmap(pivot_bert, annot=True, fmt=\".5f\", cmap=\"YlOrRd\")\n",
    "    plt.title(\"BERTScore Heatmap\")\n",
    "\n",
    "    plt.tight_layout()\n",
    "    plt.savefig(heatmap_path, dpi=300)\n",
    "    plt.close()\n",
    "    print(f\"\\nResults saved to {csv_path} and heatmap to {heatmap_path}\")\n",
    "\n",
    "# =========================\n",
    "# Example Usage\n",
    "# =========================\n",
    "if __name__ == \"__main__\":\n",
    "    API_KEY = \"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\"\n",
    "\n",
    "    answerer = LegalNVIDIAAnswerer(api_key=API_KEY)\n",
    "\n",
    "    query = \"Can police search a vehicle without a warrant under the Fourth Amendment?\"\n",
    "    context_docs = [\n",
    "        \"In Carroll v. United States, the Court ruled that warrantless vehicle searches are permitted with probable cause.\",\n",
    "        \"The 'automobile exception' is justified by the inherent mobility of vehicles and lower expectation of privacy.\",\n",
    "        \"The scope of the search must be limited to areas where the evidence might reasonably be found.\",\n",
    "        \"Probable cause remains a prerequisite — mere suspicion is not sufficient.\"\n",
    "    ]\n",
    "    reference = \"Answer: Yes, under the automobile exception, police can search a vehicle without a warrant if they have probable cause. Reasoning: This is justified by the vehicle's mobility and reduced expectation of privacy as established in Carroll v. United States.\"\n",
    "\n",
    "    temperatures = [0.1, 0.3, 0.5, 0.7]\n",
    "    top_ps = [0.5, 0.7, 0.9]\n",
    "\n",
    "    results = hyperparameter_grid_search(\n",
    "        answerer=answerer,\n",
    "        query=query,\n",
    "        context_docs=context_docs,\n",
    "        reference=reference,\n",
    "        temperatures=temperatures,\n",
    "        top_ps=top_ps,\n",
    "        best_of_n=3\n",
    "    )\n",
    "\n",
    "    log_results_and_plot(\n",
    "        results,\n",
    "        csv_path=\"nemotron_hyperparameter.csv\",\n",
    "        heatmap_path=\"nemotron_hyperparameter_heatmap.png\"\n",
    "    )"
   ]
  },
  {
   "cell_type": "code",
   "execution_count": null,
   "id": "ee66f5aa-f4a0-4753-92c4-04ceef770ec0",
   "metadata": {},
   "outputs": [],
   "source": []
  }
 ],
 "metadata": {
  "kernelspec": {
   "display_name": "Python [conda env:base] *",
   "language": "python",
   "name": "conda-base-py"
  },
  "language_info": {
   "codemirror_mode": {
    "name": "ipython",
    "version": 3
   },
   "file_extension": ".py",
   "mimetype": "text/x-python",
   "name": "python",
   "nbconvert_exporter": "python",
   "pygments_lexer": "ipython3",
   "version": "3.12.7"
  }
 },
 "nbformat": 4,
 "nbformat_minor": 5
}
