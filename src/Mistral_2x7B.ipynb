{
 "cells": [
  {
   "cell_type": "code",
   "execution_count": null,
   "id": "7f7b3e7a-8f54-4849-96f7-0ee2947adef5",
   "metadata": {},
   "outputs": [],
   "source": []
  }
 ],
 "metadata": {
  "kernelspec": {
   "display_name": "",
   "name": ""
  },
  "language_info": {
   "name": ""
  }
 },
 "nbformat": 4,
 "nbformat_minor": 5
}
